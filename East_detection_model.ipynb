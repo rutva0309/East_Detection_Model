{
 "cells": [
  {
   "cell_type": "code",
   "execution_count": 2,
   "id": "fdeabe1a",
   "metadata": {},
   "outputs": [],
   "source": [
    "from imutils.object_detection import non_max_suppression\n",
    "# from google.colab.patches import cv2_imshow\n",
    "import numpy as np\n",
    "import argparse\n",
    "import time\n",
    "import cv2"
   ]
  },
  {
   "cell_type": "code",
   "execution_count": 15,
   "id": "156a747e",
   "metadata": {
    "scrolled": true
   },
   "outputs": [],
   "source": [
    "# !pip install google.colab\n",
    "image = cv2.imread(\"Okay.png\")\n",
    "\n",
    "# image height and width should be multiple of 32\n",
    "imgWidth=320\n",
    "imgHeight=320\n",
    "# print(image.shape)\n",
    "orig = image.copy()\n",
    "(H, W) = image.shape[:2]\n",
    "(newW, newH) = (imgWidth, imgHeight)\n",
    "\n",
    "rW = W / float(newW)\n",
    "rH = H / float(newH)\n",
    "image = cv2.resize(image, (newW, newH))\n",
    "\n",
    "(H, W) = image.shape[:2]\n",
    "# cv2.imshow('img',image)\n"
   ]
  },
  {
   "cell_type": "code",
   "execution_count": 16,
   "id": "ed606b5f",
   "metadata": {},
   "outputs": [],
   "source": [
    "net = cv2.dnn.readNet(\"frozen_east_text_detection.pb\")"
   ]
  },
  {
   "cell_type": "code",
   "execution_count": 17,
   "id": "5875ac8f",
   "metadata": {},
   "outputs": [],
   "source": [
    "blob = cv2.dnn.blobFromImage(image, 1.0, (W, H),\n",
    "                             (123.68, 116.78, 103.94), swapRB=True, crop=False)"
   ]
  },
  {
   "cell_type": "code",
   "execution_count": 18,
   "id": "d498f36a",
   "metadata": {},
   "outputs": [],
   "source": [
    "outputLayers = []\n",
    "outputLayers.append(\"feature_fusion/Conv_7/Sigmoid\")\n",
    "outputLayers.append(\"feature_fusion/concat_3\")\n"
   ]
  },
  {
   "cell_type": "code",
   "execution_count": 19,
   "id": "188512d5",
   "metadata": {},
   "outputs": [],
   "source": [
    "net.setInput(blob)\n",
    "output = net.forward(outputLayers)\n",
    "scores = output[0]\n",
    "geometry = output[1]"
   ]
  },
  {
   "cell_type": "code",
   "execution_count": 20,
   "id": "64091ce7",
   "metadata": {},
   "outputs": [],
   "source": [
    "(numRows, numCols) = scores.shape[2:4]\n",
    "rects = []\n",
    "confidences = []\n",
    "\n",
    "for y in range(0, numRows):\n",
    "    scoresData = scores[0, 0, y]\n",
    "    xData0 = geometry[0, 0, y]\n",
    "    xData1 = geometry[0, 1, y]\n",
    "    xData2 = geometry[0, 2, y]\n",
    "    xData3 = geometry[0, 3, y]\n",
    "    anglesData = geometry[0, 4, y]\n",
    "\n",
    "    for x in range(0, numCols):\n",
    "        # if our score does not have sufficient probability, ignore it\n",
    "        if scoresData[x] < 0.05:\n",
    "            continue\n",
    "\n",
    "        # compute the offset factor as our resulting feature maps will\n",
    "        # be 4x smaller than the input image\n",
    "        (offsetX, offsetY) = (x * 4.0, y * 4.0)\n",
    "\n",
    "        # extract the rotation angle for the prediction and then\n",
    "        # compute the sin and cosine\n",
    "        angle = anglesData[x]\n",
    "        cos = np.cos(angle)\n",
    "        sin = np.sin(angle)\n",
    "\n",
    "        # use the geometry volume to derive the width and height of\n",
    "        # the bounding box\n",
    "        h = xData0[x] + xData2[x]\n",
    "        w = xData1[x] + xData3[x]\n",
    "\n",
    "        # compute both the starting and ending (x, y)-coordinates for\n",
    "        # the text prediction bounding box\n",
    "        endX = int(offsetX + (cos * xData1[x]) + (sin * xData2[x]))\n",
    "        endY = int(offsetY - (sin * xData1[x]) + (cos * xData2[x]))\n",
    "        startX = int(endX - w)\n",
    "        startY = int(endY - h)\n",
    "\n",
    "        # add the bounding box coordinates and probability score to\n",
    "        # our respective lists\n",
    "        rects.append((startX, startY, endX, endY))\n",
    "        confidences.append(scoresData[x])\n",
    "#         print(startX)\n",
    "#         print(startY)\n",
    "#         print(endX)\n",
    "#         print(endY)"
   ]
  },
  {
   "cell_type": "code",
   "execution_count": 21,
   "id": "9d6dc54c",
   "metadata": {},
   "outputs": [],
   "source": [
    "# apply non-maxima suppression to suppress weak, overlapping bounding\n",
    "boxes = non_max_suppression(np.array(rects), probs=confidences)"
   ]
  },
  {
   "cell_type": "raw",
   "id": "5d4fa1b7",
   "metadata": {},
   "source": [
    "boxes"
   ]
  },
  {
   "cell_type": "code",
   "execution_count": 22,
   "id": "7834a676",
   "metadata": {},
   "outputs": [
    {
     "data": {
      "text/plain": [
       "0.16611328125"
      ]
     },
     "execution_count": 22,
     "metadata": {},
     "output_type": "execute_result"
    }
   ],
   "source": [
    "def extract_area():\n",
    "    \n",
    "    area=[]\n",
    "    for i in boxes:\n",
    "        \n",
    "        area.append((i[2]-i[0])*(i[3]-i[1]))\n",
    "    \n",
    "    total_area=image.shape[0]*image.shape[1]\n",
    "    return sum(area)/total_area\n",
    "\n",
    "extract_area()"
   ]
  },
  {
   "cell_type": "code",
   "execution_count": 23,
   "id": "16868acd",
   "metadata": {
    "scrolled": true
   },
   "outputs": [
    {
     "data": {
      "text/plain": [
       "True"
      ]
     },
     "execution_count": 23,
     "metadata": {},
     "output_type": "execute_result"
    }
   ],
   "source": [
    "# loop over the bounding boxes\n",
    "for (startX, startY, endX, endY) in boxes:\n",
    "    # scale the bounding box coordinates based on the respective\n",
    "    # ratios\n",
    "    startX = int(startX * rW)\n",
    "    startY = int(startY * rH)\n",
    "    endX = int(endX * rW)\n",
    "    endY = int(endY * rH)\n",
    "#     print(startX)\n",
    "#     print(startY)\n",
    "#     print(endX)\n",
    "#     print(endY)\n",
    "    # draw the bounding box on the image\n",
    "    cv2.rectangle(orig, (startX, startY), (endX, endY), (0, 255, 0), 2)\n",
    "\n",
    "# show the output image\n",
    "# cv2.imshow('img',orig)\n",
    "cv2.imwrite('3.jpg',orig)\n",
    "# cv2.waitKey(5000)"
   ]
  },
  {
   "cell_type": "code",
   "execution_count": null,
   "id": "44f93d78",
   "metadata": {},
   "outputs": [],
   "source": []
  },
  {
   "cell_type": "code",
   "execution_count": null,
   "id": "3ad15a7f",
   "metadata": {},
   "outputs": [],
   "source": []
  }
 ],
 "metadata": {
  "kernelspec": {
   "display_name": "Python 3 (ipykernel)",
   "language": "python",
   "name": "python3"
  },
  "language_info": {
   "codemirror_mode": {
    "name": "ipython",
    "version": 3
   },
   "file_extension": ".py",
   "mimetype": "text/x-python",
   "name": "python",
   "nbconvert_exporter": "python",
   "pygments_lexer": "ipython3",
   "version": "3.8.10"
  }
 },
 "nbformat": 4,
 "nbformat_minor": 5
}
